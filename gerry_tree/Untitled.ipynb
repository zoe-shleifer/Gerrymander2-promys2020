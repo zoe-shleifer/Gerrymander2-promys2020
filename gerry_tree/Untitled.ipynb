{
 "cells": [
  {
   "cell_type": "code",
   "execution_count": 37,
   "metadata": {},
   "outputs": [],
   "source": [
    "tbounds = {'420454018001': 625506.0,\n",
    " '420454108006': 364623.0,\n",
    " '420454007005': 1547672.0,\n",
    " \n",
    " '420454078023': 397516.0,\n",
    " \n",
    " '420454028004': 434523.0,\n",
    " '420454072011': 604956.0,\n",
    " '420454041011': 720345.0,\n",
    " \n",
    " '420454097011': 495151.0,\n",
    " \n",
    " '420454069023': 401168.0,\n",
    " \n",
    " '420454099021': 474575.0,\n",
    " '420454038001': 355061.0,\n",
    " '420454091002': 605167.0,\n",
    " \n",
    " '420454103022': 685751.0,\n",
    " \n",
    " '420454068012': 373176.0,\n",
    " '420454050001': 504418.0,\n",
    " '420293001042': 908520.0,\n",
    " '420293021012': 784436.0,\n",
    " '420912058053': 378097.0,\n",
    " \n",
    " '420912058011': 4538982.0,\n",
    " \n",
    " '420912049001': 761349.0,\n",
    " '420912054005': 544211.0}\n",
    " "
   ]
  },
  {
   "cell_type": "code",
   "execution_count": 35,
   "metadata": {},
   "outputs": [
    {
     "data": {
      "text/plain": [
       "825.2380952380952"
      ]
     },
     "execution_count": 35,
     "metadata": {},
     "output_type": "execute_result"
    }
   ],
   "source": [
    "sum([45.23809523809524,\n",
    "45.23809523809524,\n",
    "47.142857142857146,\n",
    "41.904761904761905,\n",
    "34.76190476190476,\n",
    "43.80952380952381,\n",
    "38.095238095238095,\n",
    "33.333333333333336,\n",
    "40.476190476190474,\n",
    "40.95238095238095,\n",
    "38.57142857142857,\n",
    "50.476190476190474,\n",
    "38.095238095238095,\n",
    "32.38095238095238,\n",
    "34.76190476190476,\n",
    "42.38095238095238,\n",
    "33.80952380952381,\n",
    "31.428571428571427,\n",
    "45.714285714285715,\n",
    "27.61904761904762,\n",
    "39.04761904761905])"
   ]
  },
  {
   "cell_type": "code",
   "execution_count": 39,
   "metadata": {},
   "outputs": [
    {
     "name": "stdout",
     "output_type": "stream",
     "text": [
      "3.562\n"
     ]
    },
    {
     "data": {
      "application/vnd.jupyter.widget-view+json": {
       "model_id": "a7fa84140dd34c679c19fbc170c4551e",
       "version_major": 2,
       "version_minor": 0
      },
      "text/plain": [
       "HBox(children=(FloatProgress(value=0.0, max=5000.0), HTML(value='')))"
      ]
     },
     "metadata": {},
     "output_type": "display_data"
    },
    {
     "name": "stdout",
     "output_type": "stream",
     "text": [
      "444.788\n",
      "448.235\n",
      "453.335\n",
      "443.293\n",
      "459.944\n",
      "455.688\n",
      "453.154\n",
      "444.212\n",
      "454.903\n",
      "441.989\n",
      "451.726\n",
      "444.614\n",
      "443.512\n",
      "442.727\n",
      "473.165\n",
      "437.181\n",
      "\n"
     ]
    },
    {
     "ename": "KeyboardInterrupt",
     "evalue": "",
     "output_type": "error",
     "traceback": [
      "\u001b[0;31m---------------------------------------------------------------------------\u001b[0m",
      "\u001b[0;31mKeyboardInterrupt\u001b[0m                         Traceback (most recent call last)",
      "\u001b[0;32m<ipython-input-39-31a63bc9a4c5>\u001b[0m in \u001b[0;36m<module>\u001b[0;34m\u001b[0m\n\u001b[1;32m    178\u001b[0m \u001b[0;31m# pickle_save(results,'paper_stuff.pkl')\u001b[0m\u001b[0;34m\u001b[0m\u001b[0;34m\u001b[0m\u001b[0;34m\u001b[0m\u001b[0m\n\u001b[1;32m    179\u001b[0m \u001b[0mdata_dir\u001b[0m \u001b[0;34m=\u001b[0m \u001b[0;34m'/Users/zoeshleifer/Gerrymandering2-promys2020/gerry_tree'\u001b[0m\u001b[0;34m\u001b[0m\u001b[0;34m\u001b[0m\u001b[0m\n\u001b[0;32m--> 180\u001b[0;31m \u001b[0mresults\u001b[0m \u001b[0;34m=\u001b[0m \u001b[0mredistrict\u001b[0m\u001b[0;34m(\u001b[0m\u001b[0mdata_dir\u001b[0m\u001b[0;34m,\u001b[0m\u001b[0mbig_loop\u001b[0m\u001b[0;34m=\u001b[0m \u001b[0;36m5000\u001b[0m\u001b[0;34m,\u001b[0m \u001b[0msteps\u001b[0m\u001b[0;34m=\u001b[0m\u001b[0;36m300\u001b[0m\u001b[0;34m,\u001b[0m\u001b[0mtree_loop\u001b[0m\u001b[0;34m=\u001b[0m\u001b[0;36m1\u001b[0m\u001b[0;34m,\u001b[0m\u001b[0mrandom\u001b[0m\u001b[0;34m=\u001b[0m\u001b[0;32mTrue\u001b[0m\u001b[0;34m,\u001b[0m\u001b[0mpictures\u001b[0m\u001b[0;34m=\u001b[0m\u001b[0;34m'map'\u001b[0m\u001b[0;34m,\u001b[0m\u001b[0mtravel_bounds\u001b[0m \u001b[0;34m=\u001b[0m \u001b[0mtbounds\u001b[0m\u001b[0;34m)\u001b[0m\u001b[0;34m\u001b[0m\u001b[0;34m\u001b[0m\u001b[0m\n\u001b[0m",
      "\u001b[0;32m<ipython-input-39-31a63bc9a4c5>\u001b[0m in \u001b[0;36mredistrict\u001b[0;34m(DATA_DIR, big_loop, steps, tree_loop, coefs, buffer, random, enrollment_err, update_rate, multipliers, pictures, travel_bounds)\u001b[0m\n\u001b[1;32m    130\u001b[0m                         \u001b[0;32mbreak\u001b[0m\u001b[0;34m\u001b[0m\u001b[0;34m\u001b[0m\u001b[0m\n\u001b[1;32m    131\u001b[0m                     \u001b[0;31m# add the population of the next component in the path\u001b[0m\u001b[0;34m\u001b[0m\u001b[0;34m\u001b[0m\u001b[0;34m\u001b[0m\u001b[0m\n\u001b[0;32m--> 132\u001b[0;31m                     \u001b[0msplit_pop\u001b[0m \u001b[0;34m+=\u001b[0m \u001b[0mblock_data\u001b[0m\u001b[0;34m[\u001b[0m\u001b[0;34m'HS_POP'\u001b[0m\u001b[0;34m]\u001b[0m\u001b[0;34m.\u001b[0m\u001b[0mloc\u001b[0m\u001b[0;34m[\u001b[0m\u001b[0mcomps\u001b[0m\u001b[0;34m[\u001b[0m\u001b[0mi\u001b[0m\u001b[0;34m+\u001b[0m\u001b[0;36m1\u001b[0m\u001b[0;34m]\u001b[0m\u001b[0;34m]\u001b[0m\u001b[0;34m.\u001b[0m\u001b[0msum\u001b[0m\u001b[0;34m(\u001b[0m\u001b[0;34m)\u001b[0m\u001b[0;34m\u001b[0m\u001b[0;34m\u001b[0m\u001b[0m\n\u001b[0m\u001b[1;32m    133\u001b[0m                 \u001b[0;32mif\u001b[0m \u001b[0msplit\u001b[0m \u001b[0;34m==\u001b[0m \u001b[0;36m0\u001b[0m \u001b[0;32mor\u001b[0m \u001b[0msplit\u001b[0m \u001b[0;34m==\u001b[0m \u001b[0mlen\u001b[0m\u001b[0;34m(\u001b[0m\u001b[0mschool_path\u001b[0m\u001b[0;34m)\u001b[0m\u001b[0;34m:\u001b[0m\u001b[0;34m\u001b[0m\u001b[0;34m\u001b[0m\u001b[0m\n\u001b[1;32m    134\u001b[0m                     \u001b[0mno_break\u001b[0m \u001b[0;34m+=\u001b[0m \u001b[0;36m1\u001b[0m\u001b[0;34m\u001b[0m\u001b[0;34m\u001b[0m\u001b[0m\n",
      "\u001b[0;32m~/anaconda3/lib/python3.7/site-packages/pandas/core/generic.py\u001b[0m in \u001b[0;36mstat_func\u001b[0;34m(self, axis, skipna, level, numeric_only, min_count, **kwargs)\u001b[0m\n\u001b[1;32m  11180\u001b[0m             \u001b[0mskipna\u001b[0m\u001b[0;34m=\u001b[0m\u001b[0mskipna\u001b[0m\u001b[0;34m,\u001b[0m\u001b[0;34m\u001b[0m\u001b[0;34m\u001b[0m\u001b[0m\n\u001b[1;32m  11181\u001b[0m             \u001b[0mnumeric_only\u001b[0m\u001b[0;34m=\u001b[0m\u001b[0mnumeric_only\u001b[0m\u001b[0;34m,\u001b[0m\u001b[0;34m\u001b[0m\u001b[0;34m\u001b[0m\u001b[0m\n\u001b[0;32m> 11182\u001b[0;31m             \u001b[0mmin_count\u001b[0m\u001b[0;34m=\u001b[0m\u001b[0mmin_count\u001b[0m\u001b[0;34m,\u001b[0m\u001b[0;34m\u001b[0m\u001b[0;34m\u001b[0m\u001b[0m\n\u001b[0m\u001b[1;32m  11183\u001b[0m         )\n\u001b[1;32m  11184\u001b[0m \u001b[0;34m\u001b[0m\u001b[0m\n",
      "\u001b[0;32m~/anaconda3/lib/python3.7/site-packages/pandas/core/series.py\u001b[0m in \u001b[0;36m_reduce\u001b[0;34m(self, op, name, axis, skipna, numeric_only, filter_type, **kwds)\u001b[0m\n\u001b[1;32m   3889\u001b[0m                 )\n\u001b[1;32m   3890\u001b[0m             \u001b[0;32mwith\u001b[0m \u001b[0mnp\u001b[0m\u001b[0;34m.\u001b[0m\u001b[0merrstate\u001b[0m\u001b[0;34m(\u001b[0m\u001b[0mall\u001b[0m\u001b[0;34m=\u001b[0m\u001b[0;34m\"ignore\"\u001b[0m\u001b[0;34m)\u001b[0m\u001b[0;34m:\u001b[0m\u001b[0;34m\u001b[0m\u001b[0;34m\u001b[0m\u001b[0m\n\u001b[0;32m-> 3891\u001b[0;31m                 \u001b[0;32mreturn\u001b[0m \u001b[0mop\u001b[0m\u001b[0;34m(\u001b[0m\u001b[0mdelegate\u001b[0m\u001b[0;34m,\u001b[0m \u001b[0mskipna\u001b[0m\u001b[0;34m=\u001b[0m\u001b[0mskipna\u001b[0m\u001b[0;34m,\u001b[0m \u001b[0;34m**\u001b[0m\u001b[0mkwds\u001b[0m\u001b[0;34m)\u001b[0m\u001b[0;34m\u001b[0m\u001b[0;34m\u001b[0m\u001b[0m\n\u001b[0m\u001b[1;32m   3892\u001b[0m \u001b[0;34m\u001b[0m\u001b[0m\n\u001b[1;32m   3893\u001b[0m         \u001b[0;31m# TODO(EA) dispatch to Index\u001b[0m\u001b[0;34m\u001b[0m\u001b[0;34m\u001b[0m\u001b[0;34m\u001b[0m\u001b[0m\n",
      "\u001b[0;32m~/anaconda3/lib/python3.7/site-packages/pandas/core/nanops.py\u001b[0m in \u001b[0;36m_f\u001b[0;34m(*args, **kwargs)\u001b[0m\n\u001b[1;32m     67\u001b[0m             \u001b[0;32mtry\u001b[0m\u001b[0;34m:\u001b[0m\u001b[0;34m\u001b[0m\u001b[0;34m\u001b[0m\u001b[0m\n\u001b[1;32m     68\u001b[0m                 \u001b[0;32mwith\u001b[0m \u001b[0mnp\u001b[0m\u001b[0;34m.\u001b[0m\u001b[0merrstate\u001b[0m\u001b[0;34m(\u001b[0m\u001b[0minvalid\u001b[0m\u001b[0;34m=\u001b[0m\u001b[0;34m\"ignore\"\u001b[0m\u001b[0;34m)\u001b[0m\u001b[0;34m:\u001b[0m\u001b[0;34m\u001b[0m\u001b[0;34m\u001b[0m\u001b[0m\n\u001b[0;32m---> 69\u001b[0;31m                     \u001b[0;32mreturn\u001b[0m \u001b[0mf\u001b[0m\u001b[0;34m(\u001b[0m\u001b[0;34m*\u001b[0m\u001b[0margs\u001b[0m\u001b[0;34m,\u001b[0m \u001b[0;34m**\u001b[0m\u001b[0mkwargs\u001b[0m\u001b[0;34m)\u001b[0m\u001b[0;34m\u001b[0m\u001b[0;34m\u001b[0m\u001b[0m\n\u001b[0m\u001b[1;32m     70\u001b[0m             \u001b[0;32mexcept\u001b[0m \u001b[0mValueError\u001b[0m \u001b[0;32mas\u001b[0m \u001b[0me\u001b[0m\u001b[0;34m:\u001b[0m\u001b[0;34m\u001b[0m\u001b[0;34m\u001b[0m\u001b[0m\n\u001b[1;32m     71\u001b[0m                 \u001b[0;31m# we want to transform an object array\u001b[0m\u001b[0;34m\u001b[0m\u001b[0;34m\u001b[0m\u001b[0;34m\u001b[0m\u001b[0m\n",
      "\u001b[0;32m~/anaconda3/lib/python3.7/site-packages/pandas/core/nanops.py\u001b[0m in \u001b[0;36mnansum\u001b[0;34m(values, axis, skipna, min_count, mask)\u001b[0m\n\u001b[1;32m    484\u001b[0m     \"\"\"\n\u001b[1;32m    485\u001b[0m     values, mask, dtype, dtype_max, _ = _get_values(\n\u001b[0;32m--> 486\u001b[0;31m         \u001b[0mvalues\u001b[0m\u001b[0;34m,\u001b[0m \u001b[0mskipna\u001b[0m\u001b[0;34m,\u001b[0m \u001b[0mfill_value\u001b[0m\u001b[0;34m=\u001b[0m\u001b[0;36m0\u001b[0m\u001b[0;34m,\u001b[0m \u001b[0mmask\u001b[0m\u001b[0;34m=\u001b[0m\u001b[0mmask\u001b[0m\u001b[0;34m\u001b[0m\u001b[0;34m\u001b[0m\u001b[0m\n\u001b[0m\u001b[1;32m    487\u001b[0m     )\n\u001b[1;32m    488\u001b[0m     \u001b[0mdtype_sum\u001b[0m \u001b[0;34m=\u001b[0m \u001b[0mdtype_max\u001b[0m\u001b[0;34m\u001b[0m\u001b[0;34m\u001b[0m\u001b[0m\n",
      "\u001b[0;32m~/anaconda3/lib/python3.7/site-packages/pandas/core/nanops.py\u001b[0m in \u001b[0;36m_get_values\u001b[0;34m(values, skipna, fill_value, fill_value_typ, mask)\u001b[0m\n\u001b[1;32m    319\u001b[0m     \u001b[0;31m# return a platform independent precision dtype\u001b[0m\u001b[0;34m\u001b[0m\u001b[0;34m\u001b[0m\u001b[0;34m\u001b[0m\u001b[0m\n\u001b[1;32m    320\u001b[0m     \u001b[0mdtype_max\u001b[0m \u001b[0;34m=\u001b[0m \u001b[0mdtype\u001b[0m\u001b[0;34m\u001b[0m\u001b[0;34m\u001b[0m\u001b[0m\n\u001b[0;32m--> 321\u001b[0;31m     \u001b[0;32mif\u001b[0m \u001b[0mis_integer_dtype\u001b[0m\u001b[0;34m(\u001b[0m\u001b[0mdtype\u001b[0m\u001b[0;34m)\u001b[0m \u001b[0;32mor\u001b[0m \u001b[0mis_bool_dtype\u001b[0m\u001b[0;34m(\u001b[0m\u001b[0mdtype\u001b[0m\u001b[0;34m)\u001b[0m\u001b[0;34m:\u001b[0m\u001b[0;34m\u001b[0m\u001b[0;34m\u001b[0m\u001b[0m\n\u001b[0m\u001b[1;32m    322\u001b[0m         \u001b[0mdtype_max\u001b[0m \u001b[0;34m=\u001b[0m \u001b[0mnp\u001b[0m\u001b[0;34m.\u001b[0m\u001b[0mint64\u001b[0m\u001b[0;34m\u001b[0m\u001b[0;34m\u001b[0m\u001b[0m\n\u001b[1;32m    323\u001b[0m     \u001b[0;32melif\u001b[0m \u001b[0mis_float_dtype\u001b[0m\u001b[0;34m(\u001b[0m\u001b[0mdtype\u001b[0m\u001b[0;34m)\u001b[0m\u001b[0;34m:\u001b[0m\u001b[0;34m\u001b[0m\u001b[0;34m\u001b[0m\u001b[0m\n",
      "\u001b[0;31mKeyboardInterrupt\u001b[0m: "
     ]
    }
   ],
   "source": [
    "from helpers import make_graph, make_map,cleanup,signed_color\n",
    "import networkx as nx\n",
    "from tqdm.notebook import tqdm\n",
    "import numpy as np\n",
    "import pandas as pd\n",
    "import geopandas as gpd\n",
    "from random import choice\n",
    "from termcolor import colored\n",
    "from copy import deepcopy\n",
    "import timeit\n",
    "import json\n",
    "import matplotlib.pyplot as plt\n",
    "import matplotlib.colors as mcolors\n",
    "from pathlib import Path\n",
    "from typing import List, Dict\n",
    "\n",
    "def random_spanning_tree(G):\n",
    "    T = G.copy()\n",
    "    rand = np.random.uniform(0, 1, T.size())\n",
    "    for i, edge in enumerate(T.edges()):\n",
    "        T.edges[edge][\"weight\"] = rand[i]\n",
    "    return nx.minimum_spanning_tree(T)\n",
    "\n",
    "def redistrict(DATA_DIR, big_loop =1, steps=50, tree_loop=150, coefs = [1,1,1], buffer=0, random=False, enrollment_err=10/11, update_rate=5, multipliers=[126.5,1,300],pictures='map', travel_bounds={}):\n",
    "    if random: tree_loops = 1\n",
    "    # dist_dict    -- {block group id: {school:distance from block to school}}\n",
    "    # school_dict  -- {school's block group id: [ids of block groups assigned to school]}\n",
    "    # target_ratio -- overall ratio of number of minority students to total population\n",
    "    dist_dict,school_dict,block_data,G = cleanup(DATA_DIR)\n",
    "    og_schools = deepcopy(school_dict)\n",
    "    school_dict_r = {v:k for k,val in school_dict.items() for v in val}\n",
    "    test_list = school_dict['420454018001']\n",
    "    og_school_dict_r = deepcopy(school_dict_r )\n",
    "    schoollist = school_dict.keys()\n",
    "    tot_mino = block_data[\"MINO\"].sum()\n",
    "    tot_pop = block_data['HS_POP'].sum()\n",
    "    target_ratio = tot_mino/tot_pop\n",
    "    coef_sum = sum(coefs)\n",
    "    mino_coef,trav_coef,comp_coef = (multipliers[i]*coefs[i]/coef_sum for i in coefs)\n",
    "    # score calculations (compactness is not implemented yet)\n",
    "    def _calc_score(sch, district):\n",
    "        trav_score = sum([max([dist_dict[x][sch]-buffer, 0]) *\n",
    "                      block_data['HS_POP'].loc[x] for x in district])\n",
    "        return (0, trav_score)\n",
    "    district_scores = {dist: _calc_score(dist, school_dict[dist]) for dist in schoollist}\n",
    "    current_dem_score = np.round(sum([district_scores[u][0] for u in schoollist])/tot_pop,3)\n",
    "    current_trav_score = np.round(sum([district_scores[u][1] for u in schoollist])/tot_pop,3)\n",
    "    start = timeit.default_timer()\n",
    "    stop = timeit.default_timer()\n",
    "\n",
    "    score_list,animation_list = [],[]\n",
    "    frames = 0\n",
    "    # improvements is equivilent to steps, it counts the number of times we beat the current score (when we don't beat the score, the map doesn't change (assuming random == False))\n",
    "    improvements = 0\n",
    "    def random_condition(score_1, score_2, school1, school2, bound_dict):\n",
    "        if bound_dict[school1]+ bound_dict[school2] > score_1[1]+ score_2[1]:\n",
    "            return True\n",
    "        else:\n",
    "            return False\n",
    "    dem_score = 0\n",
    "    for district in school_dict.values():\n",
    "        pop = block_data['HS_POP'].loc[district].sum()\n",
    "        mino = block_data['MINO'].loc[district].sum()\n",
    "        dem_score += (abs((mino/pop) - target_ratio))**2*pop*100\n",
    "    dem_score = np.round(dem_score/tot_pop,3)\n",
    "    print(dem_score)\n",
    "            \n",
    "    import pickle\n",
    "    def pickle_save(obj, path):\n",
    "        with open(path, \"wb\") as f:\n",
    "            return pickle.dump(obj, f)\n",
    "    scores = []\n",
    "    from tqdm.notebook import tqdm\n",
    "    for loop in tqdm(range(big_loop)):\n",
    "        school_dict = deepcopy(og_schools)\n",
    "        school_dict_r = deepcopy(og_school_dict_r)\n",
    "        assert school_dict['420454018001'] == test_list\n",
    "        improvements = 0\n",
    "        for step in range(10000):\n",
    "            if improvements >= steps: break\n",
    "            # picking a random pair of neighboring districts\n",
    "            # we pick a random edge of the quotient graph which has a node for each district and an edge if they are adj.\n",
    "            # this is likely inefficient :)\n",
    "            schl1 = choice(list(school_dict))\n",
    "            neighbour_blocks = []\n",
    "            for i in school_dict[schl1]:\n",
    "                for block in G.neighbors(i):\n",
    "                    if block not in school_dict[schl1]:\n",
    "                        neighbour_blocks.append(block)\n",
    "            # check neighbors\n",
    "            try:\n",
    "                block_choice = choice(neighbour_blocks)\n",
    "            except:\n",
    "                continue\n",
    "            schl2 = school_dict_r[block_choice]\n",
    "            district_pair = school_dict[schl1] + school_dict[schl2]\n",
    "            # initialize districts and scores to the current partitioning\n",
    "            best_district_1 = school_dict[schl1]\n",
    "            best_district_2 = school_dict[schl2]\n",
    "            # idx_that_you_need_to_change_if_you_add_a_score_like_zoe_did_on_august_10 = 3\n",
    "#             best_score = district_scores[schl1][3] + district_scores[schl2][3]\n",
    "            subgraph_copy = nx.subgraph(G, district_pair).copy()\n",
    "            # counts the number of times we pick a tree without a good breaking (mostly for debugging)\n",
    "            no_break = 0\n",
    "            # Have we gotten a better score?\n",
    "            improved = False\n",
    "            # assigns random weights to edges then picks minimum tree this is a random spanning tree (hopefully)\n",
    "            for tree_iters in range(tree_loop):\n",
    "                T = random_spanning_tree(subgraph_copy)\n",
    "                # get the shortest path between schools, we will cut one of these edges\n",
    "                school_path = list(nx.all_simple_paths(T, source=schl1, target=schl2))[0]\n",
    "                # trash all the school_path edges and collect the connected components\n",
    "                # then we can go from one side of the path to the other and see which split gives balanced population\n",
    "\n",
    "                T.remove_edges_from(nx.utils.pairwise(school_path))\n",
    "                comps = [list(nx.node_connected_component(T, i))\n",
    "                         for i in school_path]\n",
    "                split_pop = block_data['HS_POP'].loc[comps[0]].sum()\n",
    "                first_enroll = block_data['enrollment'].loc[schl1]\n",
    "                second_enroll = block_data['enrollment'].loc[schl2]\n",
    "                pair_pop = block_data['HS_POP'].loc[district_pair].sum()\n",
    "                # check enrollment capacities\n",
    "                for i in range(len(school_path)):\n",
    "                    # if we get past max. enrollment without a valid split, the tree cannot be broken\n",
    "                    if split_pop*enrollment_err > first_enroll:\n",
    "                        split = 0\n",
    "                        break\n",
    "                    if (pair_pop - split_pop)*enrollment_err < second_enroll:\n",
    "                        split = i+1\n",
    "                        break\n",
    "                    # add the population of the next component in the path\n",
    "                    split_pop += block_data['HS_POP'].loc[comps[i+1]].sum()\n",
    "                if split == 0 or split == len(school_path):\n",
    "                    no_break += 1\n",
    "                    continue\n",
    "                # we have a split, now we make districts and check scores\n",
    "                district_1 = [y for x in [comps[i]\n",
    "                                          for i in range(split)] for y in x]\n",
    "                district_2 = [x for x in district_pair if x not in district_1]\n",
    "                if (not district_1) or (not district_2):\n",
    "                    continue\n",
    "                scores1 = _calc_score(schl1, district_1)\n",
    "                scores2 = _calc_score(schl2, district_2)\n",
    "                # when random argument is True we don'toptimize score\n",
    "\n",
    "                if random_condition(scores1, scores2, schl1, schl2, travel_bounds):\n",
    "                    improved = True\n",
    "                    all_scores = (scores1,scores2)\n",
    "                    best_district_1 = district_1\n",
    "                    best_district_2 = district_2\n",
    "\n",
    "            frames += 1\n",
    "            # if score decreased, we edit the current districting\n",
    "            if improved:\n",
    "                improvements += 1\n",
    "                district_scores[schl1] = all_scores[0]\n",
    "                district_scores[schl2] = all_scores[1]\n",
    "                school_dict[schl1] = best_district_1\n",
    "                school_dict[schl2] = best_district_2\n",
    "                for block in best_district_1:\n",
    "                    school_dict_r[block] = schl1\n",
    "                for block in best_district_2:\n",
    "                    school_dict_r[block] = schl2\n",
    "        print(np.round(sum([district_scores[u][1] for u in schoollist])/tot_pop,3))\n",
    "        dem_score = 0\n",
    "        for district in school_dict.values():\n",
    "            pop = block_data['HS_POP'].loc[district].sum()\n",
    "            mino = block_data['MINO'].loc[district].sum()\n",
    "            dem_score += (abs((mino/pop) - target_ratio))**2*pop*100\n",
    "        dem_score = np.round(dem_score/tot_pop,3)\n",
    "        scores.append(dem_score)\n",
    "        if loop%1 == 0:\n",
    "            pickle_save(scores,f'upper_bound_results.pkl')\n",
    "    return scores\n",
    "\n",
    "\n",
    "# results = redistrict(data_dir,big_loop=2,steps=100,tree_loop=1,coefs=[5,3,1],random=False)\n",
    "# pickle_save(results,'paper_stuff.pkl')\n",
    "data_dir = '/Users/zoeshleifer/Gerrymandering2-promys2020/gerry_tree'\n",
    "results = redistrict(data_dir,big_loop= 5000, steps=300,tree_loop=1,random=True,pictures='map',travel_bounds = tbounds)\n"
   ]
  },
  {
   "cell_type": "code",
   "execution_count": null,
   "metadata": {},
   "outputs": [],
   "source": []
  },
  {
   "cell_type": "code",
   "execution_count": 9,
   "metadata": {},
   "outputs": [
    {
     "data": {
      "text/plain": [
       "<matplotlib.axes._subplots.AxesSubplot at 0xa2871ba50>"
      ]
     },
     "execution_count": 9,
     "metadata": {},
     "output_type": "execute_result"
    },
    {
     "data": {
      "image/png": "[encoded data removed]",
      "text/plain": [
       "<Figure size 432x288 with 1 Axes>"
      ]
     },
     "metadata": {
      "needs_background": "light"
     },
     "output_type": "display_data"
    }
   ],
   "source": [
    "avocado = pd.Series((pd.read_pickle('upper_bound_results1.pkl')))\n",
    "avocado.hist(bins=50)"
   ]
  },
  {
   "cell_type": "code",
   "execution_count": 40,
   "metadata": {},
   "outputs": [
    {
     "name": "stdout",
     "output_type": "stream",
     "text": [
      "3.402\n"
     ]
    },
    {
     "data": {
      "image/png": "[encoded data removed]",
      "text/plain": [
       "<Figure size 432x288 with 1 Axes>"
      ]
     },
     "metadata": {
      "needs_background": "light"
     },
     "output_type": "display_data"
    }
   ],
   "source": [
    "\n",
    "fig, ax = plt.subplots(figsize = (6,4))\n",
    "\n",
    "# Plot\n",
    "    # Plot histogram\n",
    "avocado.plot(kind = \"hist\", density = True, alpha = 0.65, bins = 50) # change density to true, because KDE uses density\n",
    "    # Plot KDE\n",
    "avocado.plot(kind = \"kde\")\n",
    "\n",
    "    # Quantile lines\n",
    "quant_95 = avocado.quantile(0.50)\n",
    "print(quant_95)\n",
    "quants = [[quant_95, 0.6, 0.56]]\n",
    "for i in quants:\n",
    "    ax.axvline(i[0], alpha = i[1], ymax = i[2], linestyle = \":\")\n",
    "\n",
    "\n",
    "# X\n",
    "ax.set_xlabel(\"Average Price ($)\")\n",
    "    # Limit x range to 0-4\n",
    "x_start, x_end = 1.9, 5\n",
    "ax.set_xlim(x_start, x_end)\n",
    "\n",
    "# Y\n",
    "ax.set_ylim(0, 2.5)\n",
    "ax.set_yticklabels([])\n",
    "ax.set_ylabel(\"\")\n",
    "\n",
    "\n",
    "# Overall\n",
    "ax.grid(False)\n",
    "ax.set_title(\"Avocado Prices in U.S. Markets\", size = 17, pad = 10)\n",
    "\n",
    "    # Remove ticks and spines\n",
    "ax.tick_params(left = False, bottom = False)\n",
    "for ax, spine in ax.spines.items():\n",
    "    spine.set_visible(False)\n",
    "plt.plot((3.562,3.562),(0,1),label='Original Districting')    \n",
    "plt.show()"
   ]
  }
 ],
 "metadata": {
  "kernelspec": {
   "display_name": "Python 3",
   "language": "python",
   "name": "python3"
  },
  "language_info": {
   "codemirror_mode": {
    "name": "ipython",
    "version": 3
   },
   "file_extension": ".py",
   "mimetype": "text/x-python",
   "name": "python",
   "nbconvert_exporter": "python",
   "pygments_lexer": "ipython3",
   "version": "3.7.6"
  }
 },
 "nbformat": 4,
 "nbformat_minor": 4
}
